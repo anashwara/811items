{
 "cells": [
  {
   "cell_type": "code",
   "execution_count": 2,
   "id": "35fafe83",
   "metadata": {},
   "outputs": [],
   "source": [
    "import pandas as pd\n",
    "import pandas as pd\n",
    "from datetime import datetime\n",
    "import seaborn as sns\n",
    "pd.set_option('display.float_format', lambda x: '%.3f' % x)\n",
    "import numpy as np\n",
    "\n",
    "pd.set_option('display.max_rows', 1000)\n",
    "pd.set_option('display.max_columns', 100)\n",
    "import matplotlib.pyplot as plt\n",
    "\n"
   ]
  },
  {
   "cell_type": "code",
   "execution_count": 3,
   "id": "8a2c5c86",
   "metadata": {},
   "outputs": [],
   "source": [
    "df=pd.read_csv(\"/Users/kmbl227932/Downloads/cv_quarterly_scrub-28062024074843-000.csv\")\n",
    "df=pd.concat([df,pd.read_csv(\"/Users/kmbl227932/Downloads/cv_quarterly_scrub-28062024074843-001.csv\")])\n",
    "df=pd.concat([df,pd.read_csv(\"/Users/kmbl227932/Downloads/cv_quarterly_scrub-28062024074843-002.csv\")])\n",
    "\n",
    "\n"
   ]
  },
  {
   "cell_type": "code",
   "execution_count": null,
   "id": "c1d93077",
   "metadata": {},
   "outputs": [],
   "source": [
    "  \n",
    "# CV Filters\n",
    "# Step 1- Excluding non banking Financial institutions from the savings account list \n",
    "\n",
    "\n",
    "# Step 2- Apply following conditions to filter out bases\n",
    "\n",
    "#     Type -1 Non fd takers who keep more than 5k with us , but have more than 1 - 1.5 or more times amb in external funds as well\n",
    "\n",
    "#     Type- 2 Non fd takers who keep 0 amb with us, but have more than 10k in external funds\n",
    "\n",
    "#     Type -3 Non fd takers who keep 1 to 5k amb with us but have more than 10k in external funds\n",
    "\n",
    "#     Type -4 Non fd takers who have external AMB >2.33 times Internal AMB and external AMB >5K \n",
    "    \n",
    "# Step 3- Deduping from above 4 categories \n",
    " \n",
    " \n",
    "# New logic for Jun onwards- \n",
    "# Instead of AMB we took Credits - Debits of 3 months as the cutoff and included pitch to FD and RD as well.\n",
    "\n",
    "# Non FD takers with Cr-Dr >5k - Pitch for FD\n",
    "\n",
    "# Non FD takers with Cr-Dr 1-5k - Pitch for RD\n"
   ]
  },
  {
   "cell_type": "code",
   "execution_count": null,
   "id": "deb2cf30",
   "metadata": {},
   "outputs": [],
   "source": []
  },
  {
   "cell_type": "code",
   "execution_count": 4,
   "id": "c0e8ea6f",
   "metadata": {},
   "outputs": [
    {
     "data": {
      "text/plain": [
       "Index(['uniqueid', 'crn', 'data.income.data.truesalary',\n",
       "       'data.customer360.data.metadata.asofdate',\n",
       "       'data.income.data.predictedincomebucket.confidence',\n",
       "       'data.customer360.data.bankaccount.primaryaccount',\n",
       "       'data.customer360.data.bankaccount.aggregateaveragemonthlybalance',\n",
       "       'data.customer360.data.bankaccount.aggregatedebit.maxdebitamount.month1',\n",
       "       'data.customer360.data.bankaccount.aggregatedebit.maxdebitamount.month2',\n",
       "       'data.customer360.data.bankaccount.aggregatedebit.maxdebitamount.month3',\n",
       "       'data.customer360.data.bankaccount.aggregatecredit.maxcreditamount.month1',\n",
       "       'data.customer360.data.bankaccount.aggregatecredit.maxcreditamount.month2',\n",
       "       'data.customer360.data.bankaccount.aggregatecredit.maxcreditamount.month3',\n",
       "       'data.customer360.data.bankaccount.aggregatecredit.totalcreditamount.month1',\n",
       "       'data.customer360.data.bankaccount.aggregatecredit.totalcreditamount.month2',\n",
       "       'data.customer360.data.bankaccount.aggregatecredit.totalcreditamount.month3',\n",
       "       'data.customer360.data.bankaccount.aggregatedebit.totaldebitamount.month1',\n",
       "       'data.customer360.data.bankaccount.aggregatedebit.totaldebitamount.month2',\n",
       "       'data.customer360.data.bankaccount.aggregatedebit.totaldebitamount.month3',\n",
       "       'data.customer360.data.auxiliaryinfo.deviceprice',\n",
       "       'data.customer360.data.bankaccount.accounts',\n",
       "       'data.customer360.data.metadata.asofdate.1',\n",
       "       'data.customer360.data.bankaccount.aggregatedebit.maxdebitamount.month0',\n",
       "       'data.customer360.data.bankaccount.aggregatecredit.maxcreditamount.month0',\n",
       "       'data.customer360.data.bankaccount.aggregatecredit.totalcreditamount.month0',\n",
       "       'data.customer360.data.bankaccount.aggregatedebit.totaldebitamount.month0'],\n",
       "      dtype='object')"
      ]
     },
     "execution_count": 4,
     "metadata": {},
     "output_type": "execute_result"
    }
   ],
   "source": [
    "df.columns"
   ]
  },
  {
   "cell_type": "code",
   "execution_count": 5,
   "id": "d62a4199",
   "metadata": {},
   "outputs": [],
   "source": [
    "df['cr-db_m1']=df['data.customer360.data.bankaccount.aggregatecredit.totalcreditamount.month1']-df['data.customer360.data.bankaccount.aggregatedebit.totaldebitamount.month1']\n",
    "\n",
    "df['cr-db_m2']=df['data.customer360.data.bankaccount.aggregatecredit.totalcreditamount.month2']-df['data.customer360.data.bankaccount.aggregatedebit.totaldebitamount.month2']\n",
    "df['cr-db_m3']=df['data.customer360.data.bankaccount.aggregatecredit.totalcreditamount.month3']-df['data.customer360.data.bankaccount.aggregatedebit.totaldebitamount.month3']\n",
    "\n",
    "\n"
   ]
  },
  {
   "cell_type": "code",
   "execution_count": 6,
   "id": "24d26cfb",
   "metadata": {},
   "outputs": [
    {
     "data": {
      "text/plain": [
       "count    7752444.000\n",
       "mean       29309.045\n",
       "std       140245.829\n",
       "min            0.000\n",
       "10%           89.380\n",
       "20%          346.190\n",
       "30%          813.120\n",
       "40%         1590.532\n",
       "50%         2939.290\n",
       "60%         5357.808\n",
       "70%        10053.911\n",
       "80%        20098.528\n",
       "90%        51802.565\n",
       "95%       113388.082\n",
       "max     17216507.530\n",
       "Name: data.customer360.data.bankaccount.aggregateaveragemonthlybalance, dtype: float64"
      ]
     },
     "execution_count": 6,
     "metadata": {},
     "output_type": "execute_result"
    }
   ],
   "source": [
    "df['data.customer360.data.bankaccount.aggregateaveragemonthlybalance'].describe(percentiles=[.1,.2,.3,.4,.5,.6,.7,.8,.9,.95])"
   ]
  },
  {
   "cell_type": "code",
   "execution_count": null,
   "id": "81cec4a9",
   "metadata": {},
   "outputs": [],
   "source": [
    "# 1-5k cr-dr rd\n",
    "# >5k cr-dr fd\n",
    "\n",
    "\n",
    "# 50, 25, 5 amb priority  \n",
    "\n",
    "# remove these bases \n",
    "# gold - loan - 1.7-1.8 (20k)\n",
    "# fd 1\n",
    "# am 2\n",
    "# rd 3"
   ]
  },
  {
   "cell_type": "code",
   "execution_count": 7,
   "id": "472a17ca",
   "metadata": {},
   "outputs": [],
   "source": [
    "fd_base=df[(df['cr-db_m1']>5000)]"
   ]
  },
  {
   "cell_type": "code",
   "execution_count": 22,
   "id": "7247ee8d",
   "metadata": {},
   "outputs": [
    {
     "name": "stderr",
     "output_type": "stream",
     "text": [
      "/var/folders/ht/mft9wz317xd4cttlzy2ntw403_jv97/T/ipykernel_17461/2273568930.py:1: SettingWithCopyWarning: \n",
      "A value is trying to be set on a copy of a slice from a DataFrame.\n",
      "Try using .loc[row_indexer,col_indexer] = value instead\n",
      "\n",
      "See the caveats in the documentation: https://pandas.pydata.org/pandas-docs/stable/user_guide/indexing.html#returning-a-view-versus-a-copy\n",
      "  fd_base['priority']=fd_base['data.customer360.data.bankaccount.aggregateaveragemonthlybalance'].rank(method='dense',ascending=False,pct=True).astype(int)\n"
     ]
    }
   ],
   "source": [
    "fd_base['priority']=fd_base['data.customer360.data.bankaccount.aggregateaveragemonthlybalance'].rank(method='dense',ascending=False,pct=True).astype(int)"
   ]
  },
  {
   "cell_type": "code",
   "execution_count": 23,
   "id": "aa988562",
   "metadata": {},
   "outputs": [],
   "source": [
    "fd_base[['crn','cr-db_m1','data.customer360.data.bankaccount.aggregateaveragemonthlybalance']].to_csv(\"fd_cv_propensity_jun.csv\")"
   ]
  },
  {
   "cell_type": "code",
   "execution_count": 9,
   "id": "7ebb3566",
   "metadata": {},
   "outputs": [
    {
     "name": "stderr",
     "output_type": "stream",
     "text": [
      "/var/folders/ht/mft9wz317xd4cttlzy2ntw403_jv97/T/ipykernel_17461/2273568930.py:1: SettingWithCopyWarning: \n",
      "A value is trying to be set on a copy of a slice from a DataFrame.\n",
      "Try using .loc[row_indexer,col_indexer] = value instead\n",
      "\n",
      "See the caveats in the documentation: https://pandas.pydata.org/pandas-docs/stable/user_guide/indexing.html#returning-a-view-versus-a-copy\n",
      "  fd_base['priority']=fd_base['data.customer360.data.bankaccount.aggregateaveragemonthlybalance'].rank(method='dense',ascending=False,pct=True).astype(int)\n"
     ]
    }
   ],
   "source": []
  },
  {
   "cell_type": "code",
   "execution_count": 10,
   "id": "a9ebe453",
   "metadata": {},
   "outputs": [
    {
     "data": {
      "text/plain": [
       "count    1207369.000\n",
       "mean       63229.457\n",
       "std       209676.737\n",
       "min            0.000\n",
       "25%         4826.430\n",
       "50%        14021.340\n",
       "75%        43952.170\n",
       "max     12381587.880\n",
       "Name: data.customer360.data.bankaccount.aggregateaveragemonthlybalance, dtype: float64"
      ]
     },
     "execution_count": 10,
     "metadata": {},
     "output_type": "execute_result"
    }
   ],
   "source": [
    "df[(df['cr-db_m1']>5000)]['data.customer360.data.bankaccount.aggregateaveragemonthlybalance'].describe()"
   ]
  },
  {
   "cell_type": "code",
   "execution_count": 11,
   "id": "3e92c893",
   "metadata": {},
   "outputs": [
    {
     "data": {
      "text/plain": [
       "(1207369, 29)"
      ]
     },
     "execution_count": 11,
     "metadata": {},
     "output_type": "execute_result"
    }
   ],
   "source": [
    "df[(df['cr-db_m1']>5000)].shape"
   ]
  },
  {
   "cell_type": "code",
   "execution_count": 12,
   "id": "ac61053b",
   "metadata": {},
   "outputs": [
    {
     "data": {
      "text/plain": [
       "(891094, 29)"
      ]
     },
     "execution_count": 12,
     "metadata": {},
     "output_type": "execute_result"
    }
   ],
   "source": [
    "df[(df['cr-db_m2']>5000)].shape"
   ]
  },
  {
   "cell_type": "code",
   "execution_count": 13,
   "id": "7f73feed",
   "metadata": {},
   "outputs": [
    {
     "data": {
      "text/plain": [
       "(773642, 29)"
      ]
     },
     "execution_count": 13,
     "metadata": {},
     "output_type": "execute_result"
    }
   ],
   "source": [
    "df[(df['cr-db_m3']>5000)].shape"
   ]
  },
  {
   "cell_type": "code",
   "execution_count": 14,
   "id": "27ca6b83",
   "metadata": {},
   "outputs": [
    {
     "data": {
      "text/plain": [
       "(265577, 29)"
      ]
     },
     "execution_count": 14,
     "metadata": {},
     "output_type": "execute_result"
    }
   ],
   "source": [
    "df[(df['cr-db_m1']>5000)&(df['cr-db_m2']>5000)].shape"
   ]
  },
  {
   "cell_type": "code",
   "execution_count": 15,
   "id": "fab4ca81",
   "metadata": {},
   "outputs": [
    {
     "data": {
      "text/plain": [
       "1"
      ]
     },
     "execution_count": 15,
     "metadata": {},
     "output_type": "execute_result"
    }
   ],
   "source": [
    "fd_base['priority'].max()\n",
    "\n"
   ]
  },
  {
   "cell_type": "code",
   "execution_count": 16,
   "id": "20e80a83",
   "metadata": {},
   "outputs": [
    {
     "data": {
      "text/plain": [
       "count    1207369.000\n",
       "mean       63229.457\n",
       "std       209676.737\n",
       "min            0.000\n",
       "25%         4826.430\n",
       "50%        14021.340\n",
       "75%        43952.170\n",
       "max     12381587.880\n",
       "Name: data.customer360.data.bankaccount.aggregateaveragemonthlybalance, dtype: float64"
      ]
     },
     "execution_count": 16,
     "metadata": {},
     "output_type": "execute_result"
    }
   ],
   "source": [
    "df[(df['cr-db_m1']>5000)]['data.customer360.data.bankaccount.aggregateaveragemonthlybalance'].describe()\n",
    "\n",
    "\n"
   ]
  },
  {
   "cell_type": "code",
   "execution_count": 17,
   "id": "46b3a86e",
   "metadata": {},
   "outputs": [],
   "source": [
    "rd_base=df[(df['cr-db_m1']<5000)&(df['cr-db_m1']>1000)]"
   ]
  },
  {
   "cell_type": "code",
   "execution_count": 18,
   "id": "b06594dc",
   "metadata": {},
   "outputs": [
    {
     "data": {
      "text/plain": [
       "count     704961.000\n",
       "mean       16248.124\n",
       "std        82679.115\n",
       "min            0.000\n",
       "25%          987.690\n",
       "50%         2647.360\n",
       "75%         8644.630\n",
       "max     10557894.860\n",
       "Name: data.customer360.data.bankaccount.aggregateaveragemonthlybalance, dtype: float64"
      ]
     },
     "execution_count": 18,
     "metadata": {},
     "output_type": "execute_result"
    }
   ],
   "source": [
    "rd_base['data.customer360.data.bankaccount.aggregateaveragemonthlybalance'].describe()"
   ]
  },
  {
   "cell_type": "code",
   "execution_count": 19,
   "id": "bdaec95c",
   "metadata": {},
   "outputs": [
    {
     "name": "stderr",
     "output_type": "stream",
     "text": [
      "/var/folders/ht/mft9wz317xd4cttlzy2ntw403_jv97/T/ipykernel_17461/3368637554.py:1: SettingWithCopyWarning: \n",
      "A value is trying to be set on a copy of a slice from a DataFrame.\n",
      "Try using .loc[row_indexer,col_indexer] = value instead\n",
      "\n",
      "See the caveats in the documentation: https://pandas.pydata.org/pandas-docs/stable/user_guide/indexing.html#returning-a-view-versus-a-copy\n",
      "  rd_base['priority']=rd_base['data.customer360.data.bankaccount.aggregateaveragemonthlybalance'].rank(method='dense',ascending=False,pct=True).astype(int)\n"
     ]
    }
   ],
   "source": [
    "rd_base['priority']=rd_base['data.customer360.data.bankaccount.aggregateaveragemonthlybalance'].rank(method='dense',ascending=False,pct=True).astype(int)\n"
   ]
  },
  {
   "cell_type": "code",
   "execution_count": 20,
   "id": "921fda09",
   "metadata": {},
   "outputs": [
    {
     "data": {
      "text/plain": [
       "count   704961.000\n",
       "mean         0.001\n",
       "std          0.036\n",
       "min          0.000\n",
       "25%          0.000\n",
       "50%          0.000\n",
       "75%          0.000\n",
       "max          1.000\n",
       "Name: priority, dtype: float64"
      ]
     },
     "execution_count": 20,
     "metadata": {},
     "output_type": "execute_result"
    }
   ],
   "source": [
    "rd_base['priority'].describe()"
   ]
  },
  {
   "cell_type": "code",
   "execution_count": 21,
   "id": "de4c18f5",
   "metadata": {},
   "outputs": [],
   "source": [
    "rd_base[['crn','cr-db_m1','data.customer360.data.bankaccount.aggregateaveragemonthlybalance']].to_csv(\"rd_cv_propensity_jun.csv\")"
   ]
  },
  {
   "cell_type": "code",
   "execution_count": null,
   "id": "466f3307",
   "metadata": {},
   "outputs": [],
   "source": []
  }
 ],
 "metadata": {
  "kernelspec": {
   "display_name": "Python 3 (ipykernel)",
   "language": "python",
   "name": "python3"
  },
  "language_info": {
   "codemirror_mode": {
    "name": "ipython",
    "version": 3
   },
   "file_extension": ".py",
   "mimetype": "text/x-python",
   "name": "python",
   "nbconvert_exporter": "python",
   "pygments_lexer": "ipython3",
   "version": "3.12.4"
  },
  "toc": {
   "base_numbering": 1,
   "nav_menu": {},
   "number_sections": true,
   "sideBar": true,
   "skip_h1_title": false,
   "title_cell": "Table of Contents",
   "title_sidebar": "Contents",
   "toc_cell": false,
   "toc_position": {},
   "toc_section_display": true,
   "toc_window_display": false
  }
 },
 "nbformat": 4,
 "nbformat_minor": 5
}
